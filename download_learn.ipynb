{
 "cells": [
  {
   "cell_type": "code",
   "execution_count": 12,
   "metadata": {},
   "outputs": [],
   "source": [
    "# Configuration\n",
    "from dotenv import dotenv_values\n",
    "config = dotenv_values(\".env\")\n",
    "\n",
    "json_filename = f\"{config['LEARN_COURSE_ID']}.json\"\n",
    "\n",
    "# https://developer.blackboard.com/portal/displayApi\n",
    "api_token = f\"{config['LEARN_API_URL']}/v1/oauth2/token\"\n",
    "api_course = f\"{config['LEARN_API_URL']}/v3/courses/courseId:{config['LEARN_COURSE_ID']}\"\n",
    "api_course_content = f\"{config['LEARN_API_URL']}/v1/courses/courseId:{config['LEARN_COURSE_ID']}/contents\"\n",
    "api_course_content_children = lambda id: f\"{api_course_content}/{id}/children\""
   ]
  },
  {
   "cell_type": "code",
   "execution_count": 13,
   "metadata": {},
   "outputs": [],
   "source": [
    "# Authentication\n",
    "from oauthlib.oauth2 import BackendApplicationClient\n",
    "from requests_oauthlib import OAuth2Session\n",
    "\n",
    "client = BackendApplicationClient(client_id=config['LEARN_CLIENT_ID'])\n",
    "with OAuth2Session(client=client, auto_refresh_url=api_token) as session:\n",
    "    token = session.fetch_token(token_url=api_token, client_id=config['LEARN_CLIENT_ID'], client_secret=config['LEARN_CLIENT_SECRET'])"
   ]
  },
  {
   "cell_type": "code",
   "execution_count": 14,
   "metadata": {},
   "outputs": [],
   "source": [
    "# Download course details JSON\n",
    "course_details = session.get(api_course).json()"
   ]
  },
  {
   "cell_type": "code",
   "execution_count": 15,
   "metadata": {},
   "outputs": [],
   "source": [
    "# Download course content JSON\n",
    "course_content = session.get(api_course_content).json()['results']\n",
    "\n",
    "def get_children_recursively(element):\n",
    "    if 'children' not in element and 'hasChildren' in element and element['hasChildren'] == True:\n",
    "        element['children'] = session.get(api_course_content_children(element['id'])).json()['results']\n",
    "        for child in element['children']:\n",
    "            get_children_recursively(child)\n",
    "\n",
    "for element in course_content:\n",
    "    get_children_recursively(element)"
   ]
  },
  {
   "cell_type": "code",
   "execution_count": 16,
   "metadata": {},
   "outputs": [],
   "source": [
    "# Write course details and content JSON to local file\n",
    "from json import dump\n",
    "\n",
    "course_json = { 'details': course_details, 'content': course_content }\n",
    "\n",
    "with open(file=json_filename, mode=\"w\", encoding=\"utf-8\") as f:\n",
    "    dump(course_json, f, ensure_ascii=False)"
   ]
  }
 ],
 "metadata": {
  "kernelspec": {
   "display_name": "learned",
   "language": "python",
   "name": "python3"
  },
  "language_info": {
   "codemirror_mode": {
    "name": "ipython",
    "version": 3
   },
   "file_extension": ".py",
   "mimetype": "text/x-python",
   "name": "python",
   "nbconvert_exporter": "python",
   "pygments_lexer": "ipython3",
   "version": "3.11.2"
  },
  "orig_nbformat": 4
 },
 "nbformat": 4,
 "nbformat_minor": 2
}
